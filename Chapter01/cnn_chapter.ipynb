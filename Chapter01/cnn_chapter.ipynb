{
  "cells": [
    {
      "cell_type": "markdown",
      "metadata": {
        "id": "view-in-github",
        "colab_type": "text"
      },
      "source": [
        "<a href=\"https://colab.research.google.com/github/ychoi-kr/tensorflow-projects/blob/master/Chapter01/cnn_chapter.ipynb\" target=\"_parent\"><img src=\"https://colab.research.google.com/assets/colab-badge.svg\" alt=\"Open In Colab\"/></a>"
      ]
    },
    {
      "cell_type": "code",
      "execution_count": 1,
      "metadata": {
        "colab": {
          "base_uri": "https://localhost:8080/"
        },
        "id": "zL1roXU167dk",
        "outputId": "ca765eaa-73b1-4795-ecec-ee901208dc1f"
      },
      "outputs": [
        {
          "output_type": "stream",
          "name": "stdout",
          "text": [
            "replace GTSRB/Final_Training/Images/00000/00000_00000.ppm? [y]es, [n]o, [A]ll, [N]one, [r]ename: N\n"
          ]
        }
      ],
      "source": [
        "# Make sure to have the dataset in place, downloaded from:\n",
        "# http://benchmark.ini.rub.de/?section=gtsrb&subsection=dataset\n",
        "# \n",
        "# On linux systems:\n",
        "! wget -q https://sid.erda.dk/public/archives/daaeac0d7ce1152aea9b61d9f1e19370/GTSRB_Final_Training_Images.zip\n",
        "! unzip -q GTSRB_Final_Training_Images.zip"
      ]
    },
    {
      "cell_type": "code",
      "execution_count": 2,
      "metadata": {
        "id": "CwdrC0lfQvO3"
      },
      "outputs": [],
      "source": [
        "N_CLASSES = 43\n",
        "RESIZED_IMAGE = (32, 32)"
      ]
    },
    {
      "cell_type": "code",
      "execution_count": 3,
      "metadata": {
        "colab": {
          "base_uri": "https://localhost:8080/"
        },
        "id": "g7nC9cmc9Eqv",
        "outputId": "da6796e2-21fb-42d2-8add-d526a1f17333"
      },
      "outputs": [
        {
          "output_type": "stream",
          "name": "stdout",
          "text": [
            "(39209, 32, 32, 1)\n",
            "(39209, 43)\n"
          ]
        }
      ],
      "source": [
        "import matplotlib.pyplot as plt\n",
        "import glob\n",
        "from skimage.color import rgb2lab\n",
        "from skimage.transform import resize\n",
        "from collections import namedtuple\n",
        "import numpy as np\n",
        "np.random.seed(101)\n",
        "%matplotlib inline\n",
        "\n",
        "Dataset = namedtuple('Dataset', ['X', 'y'])\n",
        "\n",
        "def to_tf_format(imgs):\n",
        "    return np.stack([img[:, :, np.newaxis] for img in imgs], axis=0).astype(np.float32)\n",
        "\n",
        "def read_dataset_ppm(rootpath, n_labels, resize_to):\n",
        "  images = []\n",
        "  labels = []\n",
        "  \n",
        "  for c in range(n_labels):\n",
        "    full_path = rootpath + '/' + format(c, '05d') + '/'\n",
        "    for img_name in glob.glob(full_path + \"*.ppm\"):\n",
        "      \n",
        "      img = plt.imread(img_name).astype(np.float32)\n",
        "      img = rgb2lab(img / 255.0)[:,:,0]\n",
        "      if resize_to:\n",
        "        img = resize(img, resize_to, mode='reflect')\n",
        "      \n",
        "      label = np.zeros((n_labels, ), dtype=np.float32)\n",
        "      label[c] = 1.0\n",
        "      \n",
        "      images.append(img.astype(np.float32))\n",
        "      labels.append(label)\n",
        "\n",
        "  return Dataset(X = to_tf_format(images).astype(np.float32),\n",
        "                 y = np.matrix(labels).astype(np.float32))\n",
        "\n",
        "dataset = read_dataset_ppm('GTSRB/Final_Training/Images', N_CLASSES, RESIZED_IMAGE)\n",
        "print(dataset.X.shape)\n",
        "print(dataset.y.shape)"
      ]
    },
    {
      "cell_type": "code",
      "execution_count": 4,
      "metadata": {
        "colab": {
          "base_uri": "https://localhost:8080/",
          "height": 303
        },
        "id": "LCrd5FFX-dH8",
        "outputId": "b256e6bb-bb98-4412-f415-d43b0829c99a"
      },
      "outputs": [
        {
          "output_type": "stream",
          "name": "stdout",
          "text": [
            "[[1. 0. 0. 0. 0. 0. 0. 0. 0. 0. 0. 0. 0. 0. 0. 0. 0. 0. 0. 0. 0. 0. 0. 0.\n",
            "  0. 0. 0. 0. 0. 0. 0. 0. 0. 0. 0. 0. 0. 0. 0. 0. 0. 0. 0.]]\n"
          ]
        },
        {
          "output_type": "display_data",
          "data": {
            "text/plain": [
              "<Figure size 432x288 with 1 Axes>"
            ],
            "image/png": "[encoded data removed]"
          },
          "metadata": {
            "needs_background": "light"
          }
        }
      ],
      "source": [
        "plt.imshow(dataset.X[0, :, :, :].reshape(RESIZED_IMAGE)) #sample\n",
        "print(dataset.y[0, :]) #label"
      ]
    },
    {
      "cell_type": "code",
      "execution_count": 5,
      "metadata": {
        "colab": {
          "base_uri": "https://localhost:8080/",
          "height": 303
        },
        "id": "31rcgjdvL-bF",
        "outputId": "40cf1bff-c3b4-44e6-d862-5908f970fd6d"
      },
      "outputs": [
        {
          "output_type": "stream",
          "name": "stdout",
          "text": [
            "[[0. 0. 0. 0. 0. 0. 0. 0. 0. 0. 0. 0. 0. 0. 0. 0. 0. 0. 0. 0. 0. 0. 0. 0.\n",
            "  0. 0. 0. 0. 0. 0. 0. 0. 0. 0. 0. 0. 0. 0. 0. 0. 0. 0. 1.]]\n"
          ]
        },
        {
          "output_type": "display_data",
          "data": {
            "text/plain": [
              "<Figure size 432x288 with 1 Axes>"
            ],
            "image/png": "[encoded data removed]"
          },
          "metadata": {
            "needs_background": "light"
          }
        }
      ],
      "source": [
        "plt.imshow(dataset.X[-1, :, :, :].reshape(RESIZED_IMAGE)) #sample\n",
        "print(dataset.y[-1, :]) #label"
      ]
    },
    {
      "cell_type": "code",
      "execution_count": 6,
      "metadata": {
        "colab": {
          "base_uri": "https://localhost:8080/"
        },
        "id": "ZvQkNVVkPwrl",
        "outputId": "370b23bf-c7c6-4d06-c390-573172ce81ef"
      },
      "outputs": [
        {
          "output_type": "stream",
          "name": "stdout",
          "text": [
            "(29406, 32, 32, 1)\n",
            "(29406, 43)\n",
            "(9803, 32, 32, 1)\n",
            "(9803, 43)\n"
          ]
        }
      ],
      "source": [
        "from sklearn.model_selection import train_test_split\n",
        "idx_train, idx_test = train_test_split(range(dataset.X.shape[0]), test_size=0.25, random_state=101)\n",
        "X_train = dataset.X[idx_train, :, :, :]\n",
        "X_test = dataset.X[idx_test, :, :, :]\n",
        "y_train = dataset.y[idx_train, :]\n",
        "y_test = dataset.y[idx_test, :]\n",
        "\n",
        "print(X_train.shape)\n",
        "print(y_train.shape)\n",
        "print(X_test.shape)\n",
        "print(y_test.shape)"
      ]
    },
    {
      "cell_type": "code",
      "execution_count": 7,
      "metadata": {
        "id": "tTgV5dWZPxjY"
      },
      "outputs": [],
      "source": [
        "def minibatcher(X, y, batch_size, shuffle):\n",
        "  assert X.shape[0] == y.shape[0]\n",
        "  n_samples = X.shape[0]\n",
        "  \n",
        "  if shuffle:\n",
        "    idx = np.random.permutation(n_samples)\n",
        "  else:\n",
        "    idx = list(range(n_samples))\n",
        "  \n",
        "  for k in range(int(np.ceil(n_samples/batch_size))):\n",
        "    from_idx = k*batch_size\n",
        "    to_idx = (k+1)*batch_size\n",
        "    yield X[idx[from_idx:to_idx], :, :, :], y[idx[from_idx:to_idx], :]"
      ]
    },
    {
      "cell_type": "code",
      "execution_count": 8,
      "metadata": {
        "colab": {
          "base_uri": "https://localhost:8080/"
        },
        "id": "-ID9VjqoQuVR",
        "outputId": "3ba3a600-96d8-45f7-ae33-890bfa06a840"
      },
      "outputs": [
        {
          "output_type": "stream",
          "name": "stdout",
          "text": [
            "(10000, 32, 32, 1) (10000, 43)\n",
            "(10000, 32, 32, 1) (10000, 43)\n",
            "(9406, 32, 32, 1) (9406, 43)\n"
          ]
        }
      ],
      "source": [
        "for mb in minibatcher(X_train, y_train, 10000, True):\n",
        "  print(mb[0].shape, mb[1].shape)"
      ]
    },
    {
      "cell_type": "code",
      "source": [
        "%tensorflow_version 1.x"
      ],
      "metadata": {
        "id": "t5rPUlc_2BYF",
        "outputId": "8af87ae4-96bb-4fb0-e0e5-48076464962f",
        "colab": {
          "base_uri": "https://localhost:8080/"
        }
      },
      "execution_count": 9,
      "outputs": [
        {
          "output_type": "stream",
          "name": "stdout",
          "text": [
            "TensorFlow 1.x selected.\n"
          ]
        }
      ]
    },
    {
      "cell_type": "code",
      "execution_count": 10,
      "metadata": {
        "id": "B_lZn5XcM-9y"
      },
      "outputs": [],
      "source": [
        "import tensorflow as tf\n",
        "\n",
        "tf.compat.v1.disable_eager_execution()\n",
        "\n",
        "\n",
        "def fc_no_activation_layer(in_tensors, n_units):\n",
        "  w = tf.get_variable('fc_W', \n",
        "    [in_tensors.get_shape()[1], n_units],\n",
        "    tf.float32,\n",
        "    tf.contrib.layers.xavier_initializer())\n",
        "  b = tf.get_variable('fc_B',\n",
        "    [n_units, ],\n",
        "    tf.float32,\n",
        "    tf.constant_initializer(0.0))\n",
        "  return tf.matmul(in_tensors, w) + b\n",
        "\n",
        "def fc_layer(in_tensors, n_units):\n",
        "  return tf.nn.leaky_relu(fc_no_activation_layer(in_tensors, n_units))\n",
        "\n",
        "def maxpool_layer(in_tensors, sampling):\n",
        "  return tf.nn.max_pool(in_tensors, [1, sampling, sampling, 1], [1, sampling, sampling, 1], 'SAME')\n",
        "  \n",
        "def conv_layer(in_tensors, kernel_size, n_units):\n",
        "  w = tf.get_variable('conv_W', \n",
        "    [kernel_size, kernel_size, in_tensors.get_shape()[3], n_units],\n",
        "    tf.float32,\n",
        "    tf.contrib.layers.xavier_initializer())\n",
        "  b = tf.get_variable('conv_B',\n",
        "    [n_units, ],\n",
        "    tf.float32,\n",
        "    tf.constant_initializer(0.0))\n",
        "  return tf.nn.leaky_relu(tf.nn.conv2d(in_tensors, w, [1, 1, 1, 1], 'SAME') + b)\n",
        "\n",
        "def dropout(in_tensors, keep_proba, is_training):\n",
        "  return tf.cond(is_training, lambda: tf.nn.dropout(in_tensors, keep_proba), lambda: in_tensors)\n",
        "\n",
        "  \n",
        "def model(in_tensors, is_training):\n",
        "  \n",
        "  # First layer: 5x5 2d-conv, 32 filters, 2x maxpool, 20% drouput\n",
        "  with tf.variable_scope('l1'):\n",
        "    l1 = maxpool_layer(conv_layer(in_tensors, 5, 32), 2)\n",
        "    l1_out = dropout(l1, 0.8, is_training)\n",
        "  \n",
        "  # Second layer: 5x5 2d-conv, 64 filters, 2x maxpool, 20% drouput\n",
        "  with tf.variable_scope('l2'):\n",
        "    l2 = maxpool_layer(conv_layer(l1_out, 5, 64), 2)\n",
        "    l2_out = dropout(l2, 0.8, is_training)\n",
        "    \n",
        "  with tf.variable_scope('flatten'):\n",
        "    l2_out_flat = tf.layers.flatten(l2_out)\n",
        "  \n",
        "  # Fully collected layer, 1024 neurons, 40% dropout \n",
        "  with tf.variable_scope('l3'):\n",
        "    l3 = fc_layer(l2_out_flat, 1024)\n",
        "    l3_out = dropout(l3, 0.6, is_training)\n",
        "  \n",
        "  # Output\n",
        "  with tf.variable_scope('out'):\n",
        "    out_tensors = fc_no_activation_layer(l3_out, N_CLASSES)\n",
        "  \n",
        "  return out_tensors"
      ]
    },
    {
      "cell_type": "code",
      "execution_count": 11,
      "metadata": {
        "colab": {
          "base_uri": "https://localhost:8080/",
          "height": 1000
        },
        "id": "Qr5xRwtK2S65",
        "outputId": "6caf8b0a-0d1c-46c5-92c5-907860b89096"
      },
      "outputs": [
        {
          "output_type": "stream",
          "name": "stdout",
          "text": [
            "WARNING:tensorflow:\n",
            "The TensorFlow contrib module will not be included in TensorFlow 2.0.\n",
            "For more information, please see:\n",
            "  * https://github.com/tensorflow/community/blob/master/rfcs/20180907-contrib-sunset.md\n",
            "  * https://github.com/tensorflow/addons\n",
            "  * https://github.com/tensorflow/io (for I/O related ops)\n",
            "If you depend on functionality not listed there, please file an issue.\n",
            "\n",
            "WARNING:tensorflow:From <ipython-input-10-c1b2d0826390>:35: calling dropout (from tensorflow.python.ops.nn_ops) with keep_prob is deprecated and will be removed in a future version.\n",
            "Instructions for updating:\n",
            "Please use `rate` instead of `keep_prob`. Rate should be set to `rate = 1 - keep_prob`.\n",
            "WARNING:tensorflow:From <ipython-input-10-c1b2d0826390>:51: flatten (from tensorflow.python.layers.core) is deprecated and will be removed in a future version.\n",
            "Instructions for updating:\n",
            "Use keras.layers.flatten instead.\n",
            "WARNING:tensorflow:From /tensorflow-1.15.2/python3.7/tensorflow_core/python/layers/core.py:332: Layer.apply (from tensorflow.python.keras.engine.base_layer) is deprecated and will be removed in a future version.\n",
            "Instructions for updating:\n",
            "Please use `layer.__call__` method instead.\n",
            "WARNING:tensorflow:From <ipython-input-11-d82e38bfe96d>:12: softmax_cross_entropy_with_logits (from tensorflow.python.ops.nn_ops) is deprecated and will be removed in a future version.\n",
            "Instructions for updating:\n",
            "\n",
            "Future major versions of TensorFlow will allow gradients to flow\n",
            "into the labels input on backprop by default.\n",
            "\n",
            "See `tf.nn.softmax_cross_entropy_with_logits_v2`.\n",
            "\n",
            "Epoch= 0\n",
            " train_loss_score= 4.3693047\n",
            "Epoch= 1\n",
            " train_loss_score= 0.6731237\n",
            "Epoch= 2\n",
            " train_loss_score= 0.2916879\n",
            "Epoch= 3\n",
            " train_loss_score= 0.18628503\n",
            "Epoch= 4\n",
            " train_loss_score= 0.13011599\n",
            "Epoch= 5\n",
            " train_loss_score= 0.10830841\n",
            "Epoch= 6\n",
            " train_loss_score= 0.081921786\n",
            "Epoch= 7\n",
            " train_loss_score= 0.06808527\n",
            "Epoch= 8\n",
            " train_loss_score= 0.055559803\n",
            "Epoch= 9\n",
            " train_loss_score= 0.047442377\n",
            "TEST SET PERFORMANCE\n",
            " test_loss_score= 0.06003588\n",
            "              precision    recall  f1-score   support\n",
            "\n",
            "           0       1.00      0.96      0.98        67\n",
            "           1       0.97      0.99      0.98       539\n",
            "           2       0.98      0.99      0.98       558\n",
            "           3       1.00      0.95      0.97       364\n",
            "           4       1.00      0.99      0.99       487\n",
            "           5       0.98      0.97      0.97       479\n",
            "           6       0.98      1.00      0.99       105\n",
            "           7       1.00      0.98      0.99       364\n",
            "           8       0.96      0.99      0.98       340\n",
            "           9       0.99      0.99      0.99       384\n",
            "          10       0.99      0.99      0.99       513\n",
            "          11       0.99      0.98      0.98       334\n",
            "          12       0.98      1.00      0.99       545\n",
            "          13       1.00      0.99      1.00       537\n",
            "          14       1.00      1.00      1.00       213\n",
            "          15       0.99      0.99      0.99       164\n",
            "          16       1.00      0.98      0.99        98\n",
            "          17       1.00      1.00      1.00       281\n",
            "          18       0.99      0.99      0.99       286\n",
            "          19       0.98      0.98      0.98        56\n",
            "          20       0.97      0.95      0.96        78\n",
            "          21       0.98      1.00      0.99        95\n",
            "          22       0.99      0.99      0.99        97\n",
            "          23       0.99      0.98      0.99       123\n",
            "          24       1.00      0.99      0.99        77\n",
            "          25       0.99      0.99      0.99       401\n",
            "          26       0.97      0.99      0.98       135\n",
            "          27       1.00      1.00      1.00        60\n",
            "          28       0.98      1.00      0.99       123\n",
            "          29       1.00      0.97      0.99        69\n",
            "          30       0.99      0.98      0.99       115\n",
            "          31       1.00      0.99      0.99       178\n",
            "          32       0.98      1.00      0.99        55\n",
            "          33       0.99      1.00      1.00       177\n",
            "          34       0.97      0.99      0.98       103\n",
            "          35       0.99      0.99      0.99       277\n",
            "          36       0.99      1.00      0.99        78\n",
            "          37       0.98      0.98      0.98        63\n",
            "          38       0.99      0.99      0.99       540\n",
            "          39       1.00      0.98      0.99        60\n",
            "          40       0.98      0.99      0.98        85\n",
            "          41       1.00      0.98      0.99        47\n",
            "          42       1.00      0.98      0.99        53\n",
            "\n",
            "    accuracy                           0.99      9803\n",
            "   macro avg       0.99      0.99      0.99      9803\n",
            "weighted avg       0.99      0.99      0.99      9803\n",
            "\n"
          ]
        },
        {
          "output_type": "display_data",
          "data": {
            "text/plain": [
              "<Figure size 432x288 with 2 Axes>"
            ],
            "image/png": "[encoded data removed]"
          },
          "metadata": {
            "needs_background": "light"
          }
        },
        {
          "output_type": "display_data",
          "data": {
            "text/plain": [
              "<Figure size 432x288 with 2 Axes>"
            ],
            "image/png": "[encoded data removed]"
          },
          "metadata": {
            "needs_background": "light"
          }
        }
      ],
      "source": [
        "from sklearn.metrics import classification_report, confusion_matrix\n",
        "\n",
        "\n",
        "def train_model(X_train, y_train, X_test, y_test, learning_rate, max_epochs, batch_size):\n",
        "\n",
        "  in_X_tensors_batch = tf.placeholder(tf.float32, shape = (None, RESIZED_IMAGE[0], RESIZED_IMAGE[1], 1))\n",
        "  in_y_tensors_batch = tf.placeholder(tf.float32, shape = (None, N_CLASSES))\n",
        "  is_training = tf.placeholder(tf.bool)\n",
        "\n",
        "  logits = model(in_X_tensors_batch, is_training)\n",
        "  out_y_pred = tf.nn.softmax(logits)\n",
        "  loss_score = tf.nn.softmax_cross_entropy_with_logits(logits=logits, labels=in_y_tensors_batch)\n",
        "  loss = tf.reduce_mean(loss_score)\n",
        "  optimizer = tf.train.AdamOptimizer(learning_rate).minimize(loss)\n",
        "\n",
        "  with tf.Session() as session:\n",
        "    session.run(tf.global_variables_initializer())\n",
        "\n",
        "    for epoch in range(max_epochs):\n",
        "      print(\"Epoch=\", epoch)\n",
        "      tf_score = []\n",
        "      \n",
        "      for mb in minibatcher(X_train, y_train, batch_size, shuffle = True):\n",
        "        tf_output = session.run([optimizer, loss], \n",
        "                                feed_dict = {in_X_tensors_batch : mb[0], \n",
        "                                             in_y_tensors_batch : mb[1],\n",
        "                                             is_training : True})\n",
        "      \n",
        "        tf_score.append(tf_output[1])\n",
        "      print(\" train_loss_score=\", np.mean(tf_score))\n",
        "    \n",
        "    # after the training is done, time to test it on the test set\n",
        "    print(\"TEST SET PERFORMANCE\")\n",
        "    y_test_pred, test_loss  = session.run([out_y_pred, loss], \n",
        "                                          feed_dict = {in_X_tensors_batch : X_test, \n",
        "                                                       in_y_tensors_batch : y_test,\n",
        "                                                       is_training : False})\n",
        "    \n",
        "    print(\" test_loss_score=\", test_loss)\n",
        "    y_test_pred_classified = np.argmax(y_test_pred, axis=1).astype(np.int32)\n",
        "    y_test_true_classified = np.argmax(y_test, axis=1).astype(np.int32)\n",
        "    print(classification_report(y_test_true_classified, y_test_pred_classified))\n",
        "    \n",
        "    cm = confusion_matrix(y_test_true_classified, y_test_pred_classified)\n",
        "    \n",
        "    plt.imshow(cm, interpolation='nearest', cmap=plt.cm.Blues)\n",
        "    plt.colorbar()\n",
        "    plt.tight_layout()\n",
        "    plt.show()\n",
        "    \n",
        "    # And the log2 version, to enphasize the misclassifications\n",
        "    plt.imshow(np.log2(cm + 1), interpolation='nearest', cmap=plt.get_cmap(\"tab20\"))\n",
        "    plt.colorbar()\n",
        "    plt.tight_layout()\n",
        "    plt.show()\n",
        "\n",
        "tf.reset_default_graph()\n",
        "train_model(X_train, y_train, X_test, y_test, 0.001, 10, 256)"
      ]
    },
    {
      "cell_type": "code",
      "execution_count": 11,
      "metadata": {
        "id": "D48vDSbSRB6a"
      },
      "outputs": [],
      "source": [
        ""
      ]
    },
    {
      "cell_type": "code",
      "execution_count": 11,
      "metadata": {
        "id": "bK7x8e58z4AF"
      },
      "outputs": [],
      "source": [
        ""
      ]
    }
  ],
  "metadata": {
    "accelerator": "GPU",
    "colab": {
      "collapsed_sections": [],
      "name": "cnn_chapter.ipynb",
      "provenance": [],
      "include_colab_link": true
    },
    "kernelspec": {
      "display_name": "Python 3",
      "language": "python",
      "name": "python3"
    },
    "language_info": {
      "codemirror_mode": {
        "name": "ipython",
        "version": 3
      },
      "file_extension": ".py",
      "mimetype": "text/x-python",
      "name": "python",
      "nbconvert_exporter": "python",
      "pygments_lexer": "ipython3",
      "version": "3.6.3"
    }
  },
  "nbformat": 4,
  "nbformat_minor": 0
}